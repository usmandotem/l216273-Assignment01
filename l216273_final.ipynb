{
 "cells": [
  {
   "cell_type": "markdown",
   "id": "6c0cef65",
   "metadata": {},
   "source": [
    "# Question 2"
   ]
  },
  {
   "cell_type": "code",
   "execution_count": 1,
   "id": "7f172333",
   "metadata": {},
   "outputs": [],
   "source": [
    "import pandas as pd\n",
    "import numpy as np\n",
    "import matplotlib.pyplot as plt\n",
    "from sklearn import linear_model\n",
    "df = pd.read_csv('/Users/usmandotem/Downloads/StudentMarkSheet.csv')"
   ]
  },
  {
   "cell_type": "markdown",
   "id": "380359c5",
   "metadata": {},
   "source": [
    "# Question 03"
   ]
  },
  {
   "cell_type": "code",
   "execution_count": 2,
   "id": "182bd08d",
   "metadata": {},
   "outputs": [
    {
     "name": "stdout",
     "output_type": "stream",
     "text": [
      "Number of rows before deleting:  200\n"
     ]
    }
   ],
   "source": [
    "print(\"Number of rows before deleting: \", len(df))"
   ]
  },
  {
   "cell_type": "code",
   "execution_count": 23,
   "id": "4bfeb2a2",
   "metadata": {},
   "outputs": [
    {
     "name": "stdout",
     "output_type": "stream",
     "text": [
      "Number of rows after deletion:  197\n"
     ]
    }
   ],
   "source": [
    "nan_value = float(\"NaN\")\n",
    "df.replace(\"\", nan_value, inplace=True)\n",
    "df.dropna(subset = [\"Marks\"], inplace=True)\n",
    "print('Number of rows after deletion: ', len(df))"
   ]
  },
  {
   "cell_type": "code",
   "execution_count": 24,
   "id": "537aff8e",
   "metadata": {},
   "outputs": [
    {
     "name": "stdout",
     "output_type": "stream",
     "text": [
      "Student name    James Walker\n",
      "Exam name            Biology\n",
      "Marks                   31.0\n",
      "Name: 0, dtype: object\n"
     ]
    }
   ],
   "source": [
    "print(df[['Student name' , 'Exam name', 'Marks']].iloc[0])"
   ]
  },
  {
   "cell_type": "markdown",
   "id": "ed740068",
   "metadata": {},
   "source": [
    "# Question 04"
   ]
  },
  {
   "cell_type": "code",
   "execution_count": 25,
   "id": "fd5207fb",
   "metadata": {},
   "outputs": [],
   "source": [
    "mask = df['Exam name'] == 'Biology'\n",
    "averageofbio = df[mask]['Marks'].mean()"
   ]
  },
  {
   "cell_type": "code",
   "execution_count": 26,
   "id": "7de161db",
   "metadata": {},
   "outputs": [],
   "source": [
    "mask = df['Exam name'] == 'Chemistry'\n",
    "averageofchem = df[mask]['Marks'].mean()"
   ]
  },
  {
   "cell_type": "code",
   "execution_count": 27,
   "id": "f630d9ae",
   "metadata": {},
   "outputs": [],
   "source": [
    "mask = df['Exam name'] == 'Mathematics'\n",
    "averageofmaths = df[mask]['Marks'].mean()"
   ]
  },
  {
   "cell_type": "code",
   "execution_count": 28,
   "id": "da777b46",
   "metadata": {},
   "outputs": [],
   "source": [
    "mask = df['Exam name'] == 'Philosophy'\n",
    "averageofphilo = df[mask]['Marks'].mean()"
   ]
  },
  {
   "cell_type": "code",
   "execution_count": 29,
   "id": "ed79b325",
   "metadata": {},
   "outputs": [],
   "source": [
    "mask = df['Exam name'] == 'Physics'\n",
    "averageofphysics = df[mask]['Marks'].mean()"
   ]
  },
  {
   "cell_type": "code",
   "execution_count": 30,
   "id": "90e6c2c8",
   "metadata": {},
   "outputs": [],
   "source": [
    "mask = df['Exam name'] == 'Sociology'\n",
    "averageofsocio = df[mask]['Marks'].mean()"
   ]
  },
  {
   "cell_type": "code",
   "execution_count": 31,
   "id": "27f998f0",
   "metadata": {},
   "outputs": [
    {
     "data": {
      "image/png": "[encoded data removed]",
      "text/plain": [
       "<Figure size 432x288 with 1 Axes>"
      ]
     },
     "metadata": {
      "needs_background": "light"
     },
     "output_type": "display_data"
    }
   ],
   "source": [
    "x = np.array([\"Biology\", \"Chemistry\", \"Mathematics\", \"Philosophy\", \"Physics\", \"Sociology\"])\n",
    "y = np.array([averageofbio, averageofchem, averageofmaths, averageofphilo, averageofphysics, averageofsocio])\n",
    "plt.bar(x,y)\n",
    "plt.show()"
   ]
  },
  {
   "cell_type": "markdown",
   "id": "d661e57e",
   "metadata": {},
   "source": [
    "# Question 05"
   ]
  },
  {
   "cell_type": "code",
   "execution_count": 32,
   "id": "7fe57a4b",
   "metadata": {},
   "outputs": [],
   "source": [
    "data = pd.read_csv('/Users/usmandotem/Downloads/CatData.csv')\n",
    "data.replace(\"\", inplace=True)\n",
    "data.dropna(subset = [\"Tail Length (cm)\"], inplace=True)"
   ]
  },
  {
   "cell_type": "code",
   "execution_count": 33,
   "id": "b56a419d",
   "metadata": {},
   "outputs": [],
   "source": [
    "data.replace(\"\", inplace=True)\n",
    "data.dropna(subset = [\"Tail Length (cm)\"], inplace=True)"
   ]
  },
  {
   "cell_type": "code",
   "execution_count": 34,
   "id": "cf7255e2",
   "metadata": {},
   "outputs": [
    {
     "name": "stdout",
     "output_type": "stream",
     "text": [
      "<class 'pandas.core.frame.DataFrame'>\n",
      "RangeIndex: 342 entries, 0 to 341\n",
      "Data columns (total 2 columns):\n",
      " #   Column            Non-Null Count  Dtype  \n",
      "---  ------            --------------  -----  \n",
      " 0   Tail Length (cm)  342 non-null    float64\n",
      " 1   Mass (kg)         342 non-null    float64\n",
      "dtypes: float64(2)\n",
      "memory usage: 5.5 KB\n"
     ]
    }
   ],
   "source": [
    "data.info()"
   ]
  },
  {
   "cell_type": "code",
   "execution_count": 35,
   "id": "3662788b",
   "metadata": {},
   "outputs": [
    {
     "data": {
      "image/png": "[encoded data removed]",
      "text/plain": [
       "<Figure size 432x288 with 1 Axes>"
      ]
     },
     "metadata": {
      "needs_background": "light"
     },
     "output_type": "display_data"
    }
   ],
   "source": [
    "plt.scatter(data[\"Tail Length (cm)\"], data[\"Mass (kg)\"])\n",
    "plt.title(\"Tail Length(cm) vs Mass(kg)\")\n",
    "plt.xlabel(\"Tail length\")\n",
    "plt.ylabel(\"Mass\")\n",
    "plt.show()"
   ]
  },
  {
   "cell_type": "code",
   "execution_count": 36,
   "id": "4ee383d6",
   "metadata": {},
   "outputs": [
    {
     "name": "stdout",
     "output_type": "stream",
     "text": [
      "data:  342\n",
      "Train:  273\n",
      "Test:  69\n"
     ]
    }
   ],
   "source": [
    "num = int(len(data)*0.8)\n",
    "train = data[:num]\n",
    "test = data[num:]\n",
    "print('data: ', len(data))\n",
    "print('Train: ', len(train))\n",
    "print('Test: ', len(test))"
   ]
  },
  {
   "cell_type": "code",
   "execution_count": 37,
   "id": "1d66a4e1",
   "metadata": {},
   "outputs": [
    {
     "data": {
      "text/plain": [
       "LinearRegression()"
      ]
     },
     "execution_count": 37,
     "metadata": {},
     "output_type": "execute_result"
    }
   ],
   "source": [
    "regr = linear_model.LinearRegression()\n",
    "train_x = np.array(train[[\"Tail Length (cm)\"]])\n",
    "train_y = np.array(train[[\"Mass (kg)\"]])\n",
    "regr.fit(train_x, train_y)"
   ]
  },
  {
   "cell_type": "code",
   "execution_count": 38,
   "id": "a95e2b82",
   "metadata": {},
   "outputs": [
    {
     "name": "stdout",
     "output_type": "stream",
     "text": [
      "Slope:  [[0.48913766]]\n",
      "Intercept:  [-5.57328662]\n"
     ]
    }
   ],
   "source": [
    "coefficients = regr.coef_\n",
    "intercept = regr.intercept_\n",
    "print(\"Slope: \", coefficients)\n",
    "print(\"Intercept: \", intercept)"
   ]
  },
  {
   "cell_type": "code",
   "execution_count": 39,
   "id": "2d8d8e16",
   "metadata": {},
   "outputs": [
    {
     "data": {
      "image/png": "[encoded data removed]",
      "text/plain": [
       "<Figure size 432x288 with 1 Axes>"
      ]
     },
     "metadata": {
      "needs_background": "light"
     },
     "output_type": "display_data"
    }
   ],
   "source": [
    "plt.scatter(train[\"Tail Length (cm)\"], train[\"Mass (kg)\"])\n",
    "plt.plot(train_x, coefficients[0]*train_x + intercept, color =\"red\")\n",
    "plt.xlabel(\"Tail Length (cm)\")\n",
    "plt.ylabel(\"Mass (kg)\")\n",
    "plt.show()"
   ]
  },
  {
   "cell_type": "markdown",
   "id": "dfae4422",
   "metadata": {},
   "source": [
    "# QUESTION 1"
   ]
  },
  {
   "cell_type": "code",
   "execution_count": 40,
   "id": "04af7ae1",
   "metadata": {},
   "outputs": [],
   "source": [
    "def check_input(matrix):\n",
    "  for row in matrix:\n",
    "            for item in row:\n",
    "                if type(item) != int:\n",
    "                    return False\n",
    "    \n",
    "  for row in matrix:\n",
    "      if len(row) != len(set(row)):\n",
    "          return False\n",
    "  transpose = np.transpose(matrix)\n",
    "  for col in transpose:\n",
    "      if len(col) != len(set(col)):\n",
    "          return False\n",
    "    \n",
    "  return True"
   ]
  },
  {
   "cell_type": "code",
   "execution_count": 41,
   "id": "7f62a46c",
   "metadata": {},
   "outputs": [
    {
     "name": "stdout",
     "output_type": "stream",
     "text": [
      "True\n",
      "False\n",
      "False\n"
     ]
    }
   ],
   "source": [
    "test1 = [[1, 2, 3],\n",
    "        [2, 3, 1],\n",
    "        [3, 1, 2]]\n",
    "\n",
    "test2 = [[1, 2, 3, 4],\n",
    "        [2, 3, 1, 3],\n",
    "        [3, 1, 2, 3],\n",
    "        [4, 4, 4, 4]]\n",
    "\n",
    "test3 = [['a', 'b', 'c'],\n",
    "        ['b', 'c', 'a'],\n",
    "        ['c', 'a', 'b']]\n",
    "\n",
    "print(check_input(test1)) # must return true\n",
    "print(check_input(test2)) # must return false\n",
    "print(check_input(test3)) # must return false"
   ]
  },
  {
   "cell_type": "code",
   "execution_count": null,
   "id": "fe52bb94",
   "metadata": {},
   "outputs": [],
   "source": []
  }
 ],
 "metadata": {
  "kernelspec": {
   "display_name": "Python 3 (ipykernel)",
   "language": "python",
   "name": "python3"
  },
  "language_info": {
   "codemirror_mode": {
    "name": "ipython",
    "version": 3
   },
   "file_extension": ".py",
   "mimetype": "text/x-python",
   "name": "python",
   "nbconvert_exporter": "python",
   "pygments_lexer": "ipython3",
   "version": "3.9.12"
  }
 },
 "nbformat": 4,
 "nbformat_minor": 5
}
